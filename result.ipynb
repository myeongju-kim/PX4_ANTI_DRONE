{
 "cells": [
  {
   "cell_type": "code",
   "execution_count": 3,
   "id": "d094e8d0",
   "metadata": {
    "scrolled": true
   },
   "outputs": [
    {
     "name": "stderr",
     "output_type": "stream",
     "text": [
      "\u001b[34m\u001b[1mdetect: \u001b[0mweights=['C:/Users/sksm2/cab2/yolov5/runs/train/drone_yolov5s_results2/weights/best.pt'], source=C:/Users/sksm2/cab2/yolov5\\1.PNG, data=data\\coco128.yaml, imgsz=[416, 416], conf_thres=0.5, iou_thres=0.45, max_det=1000, device=, view_img=False, save_txt=False, save_conf=False, save_crop=False, nosave=False, classes=None, agnostic_nms=False, augment=False, visualize=False, update=False, project=runs\\detect, name=exp, exist_ok=False, line_thickness=3, hide_labels=False, hide_conf=False, half=False, dnn=False\n",
      "YOLOv5  v6.1-127-gfa569cd torch 1.11.0+cpu CPU\n",
      "\n",
      "Fusing layers... \n",
      "YOLOv5s summary: 213 layers, 7012822 parameters, 0 gradients\n",
      "image 1/1 C:\\Users\\sksm2\\cab2\\yolov5\\1.PNG: 256x416 Done. (0.114s)\n",
      "Speed: 3.0ms pre-process, 114.0ms inference, 3.0ms NMS per image at shape (1, 3, 416, 416)\n",
      "Results saved to \u001b[1mruns\\detect\\exp18\u001b[0m\n"
     ]
    }
   ],
   "source": [
    "from IPython.display import Image\n",
    "import os\n",
    "from glob import glob\n",
    "import yaml\n",
    "\n",
    "a = glob('C:/Users/sksm2/cab2/yolov5/*.png')\n",
    "val_img_path = a[0]\n",
    "\n",
    "!python detect.py --weights C:/Users/sksm2/cab2/yolov5/runs/train/drone_yolov5s_results2/weights/best.pt --img 416 --conf 0.5 --source \"{val_img_path}\"\n",
    "\n",
    "#Image(os.path.join('/content/yolov5/inference/output', os.path.basename(val_img_path)))"
   ]
  },
  {
   "cell_type": "code",
   "execution_count": 2,
   "id": "22a92b81",
   "metadata": {},
   "outputs": [
    {
     "name": "stdout",
     "output_type": "stream",
     "text": [
      "C:\\Users\\sksm2\\cab2\\yolov5\n"
     ]
    }
   ],
   "source": [
    "cd yolov5"
   ]
  }
 ],
 "metadata": {
  "kernelspec": {
   "display_name": "Python 3 (ipykernel)",
   "language": "python",
   "name": "python3"
  },
  "language_info": {
   "codemirror_mode": {
    "name": "ipython",
    "version": 3
   },
   "file_extension": ".py",
   "mimetype": "text/x-python",
   "name": "python",
   "nbconvert_exporter": "python",
   "pygments_lexer": "ipython3",
   "version": "3.9.7"
  }
 },
 "nbformat": 4,
 "nbformat_minor": 5
}
